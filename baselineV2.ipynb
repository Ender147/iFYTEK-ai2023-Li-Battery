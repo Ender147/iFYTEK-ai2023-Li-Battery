{
 "cells": [
  {
   "cell_type": "markdown",
   "metadata": {},
   "source": [
    "## 库导入"
   ]
  },
  {
   "cell_type": "code",
   "execution_count": 2,
   "metadata": {},
   "outputs": [],
   "source": [
    "import pandas as pd # 用于处理数据的工具\n",
    "import lightgbm as lgb # 机器学习模型 LightGBM\n",
    "from sklearn.metrics import mean_absolute_error # 评分 MAE 的计算函数\n",
    "from sklearn.model_selection import train_test_split # 拆分训练集与验证集工具\n",
    "from tqdm import tqdm # 显示循环的进度条工具"
   ]
  },
  {
   "cell_type": "markdown",
   "metadata": {},
   "source": [
    "## 数据准备"
   ]
  },
  {
   "cell_type": "code",
   "execution_count": 3,
   "metadata": {},
   "outputs": [],
   "source": [
    "train_dataset = pd.read_csv(\"./data/train.csv\") # 原始训练数据。\n",
    "test_dataset = pd.read_csv(\"./data/test.csv\") # 原始测试数据（用于提交）。\n",
    "\n",
    "submit = pd.DataFrame() # 定义提交的最终数据。\n",
    "submit[\"序号\"] = test_dataset[\"序号\"] # 对齐测试数据的序号。\n",
    "\n",
    "MAE_scores = dict() # 定义评分项。"
   ]
  },
  {
   "cell_type": "code",
   "execution_count": 5,
   "metadata": {},
   "outputs": [],
   "source": [
    "pred_labels = list(train_dataset.columns[-34:]) # 需要预测的标签。\n",
    "train_set, valid_set = train_test_split(train_dataset, test_size=0.2) # 拆分数据集。\n",
    "\n",
    "# 设定 LightGBM 训练参，查阅参数意义：https://lightgbm.readthedocs.io/en/latest/Parameters.html\n",
    "lgb_params = {\n",
    "        'boosting_type': 'gbdt',\n",
    "        'objective': 'regression',\n",
    "        'metric': 'mae',\n",
    "        'min_child_weight': 5,\n",
    "        'num_leaves': 2 ** 5,\n",
    "        'lambda_l2': 10,\n",
    "        'feature_fraction': 0.8,\n",
    "        'bagging_fraction': 0.8,\n",
    "        'bagging_freq': 4,\n",
    "        'learning_rate': 0.03,\n",
    "        'seed': 2023,\n",
    "        'nthread' : 16,\n",
    "        'verbose' : -1,\n",
    "    }\n",
    "\n",
    "no_info = lgb.callback.log_evaluation(period=-1) # 禁用训练日志输出。"
   ]
  },
  {
   "cell_type": "markdown",
   "metadata": {},
   "source": [
    "## 时间特征函数"
   ]
  },
  {
   "cell_type": "code",
   "execution_count": 6,
   "metadata": {},
   "outputs": [],
   "source": [
    "def time_feature(data: pd.DataFrame, pred_labels: list=None) -> pd.DataFrame:\n",
    "    \"\"\"提取数据中的时间特征。\n",
    "\n",
    "    输入: \n",
    "        data: Pandas.DataFrame\n",
    "            需要提取时间特征的数据。\n",
    "\n",
    "        pred_labels: list, 默认值: None\n",
    "            需要预测的标签的列表。如果是测试集，不需要填入。\n",
    "    \n",
    "    输出: data: Pandas.DataFrame\n",
    "            提取时间特征后的数据。\n",
    "    \"\"\"\n",
    "    \n",
    "    data = data.copy() # 复制数据，避免后续影响原始数据。\n",
    "    data = data.drop(columns=[\"序号\"]) # 去掉”序号“特征。\n",
    "    \n",
    "    data[\"时间\"] = pd.to_datetime(data[\"时间\"]) # 将”时间“特征的文本内容转换为 Pandas 可处理的格式。\n",
    "    data[\"month\"] = data[\"时间\"].dt.month # 添加新特征“month”，代表”当前月份“。\n",
    "    data[\"day\"] = data[\"时间\"].dt.day # 添加新特征“day”，代表”当前日期“。\n",
    "    data[\"hour\"] = data[\"时间\"].dt.hour # 添加新特征“hour”，代表”当前小时“。\n",
    "    data[\"minute\"] = data[\"时间\"].dt.minute # 添加新特征“minute”，代表”当前分钟“。\n",
    "    data[\"weekofyear\"] = data[\"时间\"].dt.isocalendar().week.astype(int) # 添加新特征“weekofyear”，代表”当年第几周“，并转换成 int，否则 LightGBM 无法处理。\n",
    "    data[\"dayofyear\"] = data[\"时间\"].dt.dayofyear # 添加新特征“dayofyear”，代表”当年第几日“。\n",
    "    data[\"dayofweek\"] = data[\"时间\"].dt.dayofweek # 添加新特征“dayofweek”，代表”当周第几日“。\n",
    "    data[\"is_weekend\"] = data[\"时间\"].dt.dayofweek // 6 # 添加新特征“is_weekend”，代表”是否是周末“，1 代表是周末，0 代表不是周末。\n",
    "\n",
    "    data = data.drop(columns=[\"时间\"]) # LightGBM 无法处理这个特征，它已体现在其他特征中，故丢弃。\n",
    "\n",
    "    if pred_labels: # 如果提供了 pred_labels 参数，则执行该代码块。\n",
    "        data = data.drop(columns=[*pred_labels]) # 去掉所有待预测的标签。\n",
    "    \n",
    "    return data # 返回最后处理的数据。"
   ]
  },
  {
   "cell_type": "markdown",
   "metadata": {},
   "source": [
    "## 模型训练"
   ]
  },
  {
   "cell_type": "code",
   "execution_count": 7,
   "metadata": {},
   "outputs": [
    {
     "name": "stderr",
     "output_type": "stream",
     "text": [
      "  0%|          | 0/34 [00:00<?, ?it/s]"
     ]
    },
    {
     "name": "stderr",
     "output_type": "stream",
     "text": [
      "100%|██████████| 34/34 [00:14<00:00,  2.27it/s]\n"
     ]
    },
    {
     "name": "stdout",
     "output_type": "stream",
     "text": [
      "{'上部温度1': 6.910852745201479, '上部温度2': 6.225551220325556, '上部温度3': 4.4358030272766, '上部温度4': 2.7464344557395637, '上部温度5': 3.3923163204027933, '上部温度6': 2.597585661460114, '上部温度7': 1.8480067930352153, '上部温度8': 0.2288844049165549, '上部温度9': 0.16993452578513255, '上部温度10': 0.16409996587441755, '上部温度11': 0.18050989366240494, '上部温度12': 0.22357690591049373, '上部温度13': 0.21794080589726628, '上部温度14': 0.23776674690426983, '上部温度15': 0.31452833805994224, '上部温度16': 0.37474424856354027, '上部温度17': 1.011991836113416, '下部温度1': 3.981916549789656, '下部温度2': 1.5605360188915076, '下部温度3': 0.7051414212740323, '下部温度4': 0.4160213976882365, '下部温度5': 1.4542306402245373, '下部温度6': 0.9462849152475947, '下部温度7': 0.4652491540985948, '下部温度8': 0.17316813531353512, '下部温度9': 6.498815007836839, '下部温度10': 0.167244066878388, '下部温度11': 0.20140942341909562, '下部温度12': 0.2240499841210811, '下部温度13': 0.22047554029852642, '下部温度14': 0.21123113417729375, '下部温度15': 0.2600926080217273, '下部温度16': 0.3189539966984956, '下部温度17': 0.3657582043598063}\n"
     ]
    }
   ],
   "source": [
    "test_features = time_feature(test_dataset) # 处理测试集的时间特征，无需 pred_labels。\n",
    "\n",
    "\n",
    "# 从所有待预测特征中依次取出标签进行训练与预测。\n",
    "for pred_label in tqdm(pred_labels):\n",
    "    train_features = time_feature(train_set, pred_labels=pred_labels) # 处理训练集的时间特征。\n",
    "    train_labels = train_set[pred_label] # 训练集的标签数据。\n",
    "    train_data = lgb.Dataset(train_features, label=train_labels) # 将训练集转换为 LightGBM 可处理的类型。\n",
    "\n",
    "    valid_features = time_feature(valid_set, pred_labels=pred_labels) # 处理验证集的时间特征。\n",
    "    valid_labels = valid_set[pred_label] # 验证集的标签数据。\n",
    "    valid_data = lgb.Dataset(valid_features, label=valid_labels) # 将验证集转换为 LightGBM 可处理的类型。\n",
    "\n",
    "    # 训练模型，参数依次为：导入模型设定参数、导入训练集、设定模型迭代次数（200）、导入验证集、禁止输出日志\n",
    "    model = lgb.train(lgb_params, train_data, 200, valid_sets=valid_data, callbacks=[no_info])\n",
    "\n",
    "    valid_pred = model.predict(valid_features, num_iteration=model.best_iteration) # 选择效果最好的模型进行验证集预测。\n",
    "    test_pred = model.predict(test_features, num_iteration=model.best_iteration) # 选择效果最好的模型进行测试集预测。\n",
    "    MAE_score = mean_absolute_error(valid_pred, valid_labels) # 计算验证集预测数据与真实数据的 MAE。\n",
    "    MAE_scores[pred_label] = MAE_score # 将对应标签的 MAE 值 存入评分项中。\n",
    "\n",
    "    submit[pred_label] = test_pred # 将测试集预测数据存入最终提交数据中。\n",
    "     \n",
    "submit.to_csv('submit_resultV2.csv', index=False) # 保存最后的预测结果到 submit_result.csv。\n",
    "print(MAE_scores) # 查看各项的 MAE 值。"
   ]
  },
  {
   "cell_type": "markdown",
   "metadata": {},
   "source": [
    "对baseline运行的流程有了一些深入一点的了解，通过对模型的一些参数如学习率等进行微调，使得预测的准确性有了一定的提升。\n",
    "\n",
    "之后的打算是多花一些时间学习了解一些特征工程相关的方法，对数据集进行一些特征筛选和数据处理，以此来提高预测准确性。"
   ]
  }
 ],
 "metadata": {
  "kernelspec": {
   "display_name": "base",
   "language": "python",
   "name": "python3"
  },
  "language_info": {
   "codemirror_mode": {
    "name": "ipython",
    "version": 3
   },
   "file_extension": ".py",
   "mimetype": "text/x-python",
   "name": "python",
   "nbconvert_exporter": "python",
   "pygments_lexer": "ipython3",
   "version": "3.10.9"
  },
  "orig_nbformat": 4
 },
 "nbformat": 4,
 "nbformat_minor": 2
}
